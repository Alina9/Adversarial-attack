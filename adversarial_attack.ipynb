{
 "cells": [
  {
   "cell_type": "code",
   "execution_count": 1,
   "metadata": {},
   "outputs": [],
   "source": [
    "import torch\n",
    "import torch.nn as nn\n",
    "import torch.optim as optim\n",
    "import torch.nn.functional as F\n",
    "from torch.utils.data import DataLoader\n",
    "from torch.autograd import Variable"
   ]
  },
  {
   "cell_type": "code",
   "execution_count": 2,
   "metadata": {},
   "outputs": [],
   "source": [
    "import numpy as np\n",
    "import pandas as pd\n",
    "import matplotlib.pyplot as plt\n",
    "from sklearn.model_selection import train_test_split\n",
    "from sklearn.preprocessing import scale\n",
    "from scipy.stats import norm, uniform\n",
    "from copy import copy\n",
    "import random\n",
    "from sklearn.metrics import confusion_matrix\n",
    "from sklearn.metrics import precision_score, recall_score, f1_score\n",
    "from sklearn.metrics import precision_recall_curve\n",
    "from sklearn.metrics import roc_curve"
   ]
  },
  {
   "cell_type": "code",
   "execution_count": 3,
   "metadata": {},
   "outputs": [],
   "source": [
    "X = pd.read_csv('mnist_data.csv').values[:, 1:]\n",
    "y = pd.read_csv('mnist_target.csv').values[:, 1]"
   ]
  },
  {
   "cell_type": "code",
   "execution_count": 4,
   "metadata": {},
   "outputs": [],
   "source": [
    "X = X / 255\n",
    "X_train, X_test, y_train, y_test = train_test_split(X, y)"
   ]
  },
  {
   "cell_type": "code",
   "execution_count": 5,
   "metadata": {},
   "outputs": [],
   "source": [
    "class Data:\n",
    "    def __init__(self, X, y):\n",
    "        self.X = torch.Tensor(X).float()\n",
    "        self.y = torch.Tensor(y).long()\n",
    "        \n",
    "    def __getitem__(self, i):\n",
    "        return self.X[i], self.y[i]\n",
    "    \n",
    "    def __len__(self):\n",
    "        return self.X.shape[0]"
   ]
  },
  {
   "cell_type": "code",
   "execution_count": 6,
   "metadata": {},
   "outputs": [],
   "source": [
    "dataset = Data(X_train, y_train)\n",
    "dataloader = DataLoader(dataset, batch_size=128, shuffle=True)"
   ]
  },
  {
   "cell_type": "code",
   "execution_count": 7,
   "metadata": {},
   "outputs": [],
   "source": [
    "class Net(nn.Module):\n",
    "    def __init__(self, input_size):\n",
    "        super(Net, self).__init__()\n",
    "        self.fc1 = nn.Linear(input_size, 128)\n",
    "        self.fc2 = nn.Linear(128,128)\n",
    "        self.fc3 = nn.Linear(128, 10)\n",
    "\n",
    "    def forward(self, x):\n",
    "        x = F.relu(self.fc1(x))\n",
    "        x = F.relu(self.fc2(x))\n",
    "        x = self.fc3(x)\n",
    "        return x"
   ]
  },
  {
   "cell_type": "code",
   "execution_count": 8,
   "metadata": {},
   "outputs": [
    {
     "data": {
      "text/plain": [
       "Net(\n",
       "  (fc1): Linear(in_features=784, out_features=128, bias=True)\n",
       "  (fc2): Linear(in_features=128, out_features=128, bias=True)\n",
       "  (fc3): Linear(in_features=128, out_features=10, bias=True)\n",
       ")"
      ]
     },
     "execution_count": 8,
     "metadata": {},
     "output_type": "execute_result"
    }
   ],
   "source": [
    "model = Net(X_train.shape[1])\n",
    "model"
   ]
  },
  {
   "cell_type": "code",
   "execution_count": 9,
   "metadata": {},
   "outputs": [],
   "source": [
    "optim = torch.optim.Adam(model.parameters(), lr=1e-4)\n",
    "loss_function = nn.CrossEntropyLoss()"
   ]
  },
  {
   "cell_type": "code",
   "execution_count": 10,
   "metadata": {},
   "outputs": [
    {
     "name": "stdout",
     "output_type": "stream",
     "text": [
      "Episode: 0 Loss: 486.68929901719093\n",
      "Episode: 1 Loss: 169.74016864597797\n",
      "Episode: 2 Loss: 134.13464929908514\n",
      "Episode: 3 Loss: 120.26070345193148\n",
      "Episode: 4 Loss: 110.69472658634186\n",
      "Episode: 5 Loss: 103.2421403080225\n",
      "Episode: 6 Loss: 96.65963277220726\n",
      "Episode: 7 Loss: 91.21904148161411\n",
      "Episode: 8 Loss: 85.30391281098127\n",
      "Episode: 9 Loss: 80.15415497124195\n",
      "Episode: 10 Loss: 75.7144473567605\n",
      "Episode: 11 Loss: 71.58144890889525\n",
      "Episode: 12 Loss: 67.34279996529222\n",
      "Episode: 13 Loss: 63.86995845660567\n",
      "Episode: 14 Loss: 60.47321620211005\n",
      "Episode: 15 Loss: 57.21575204655528\n",
      "Episode: 16 Loss: 54.41325965896249\n",
      "Episode: 17 Loss: 51.53786788508296\n",
      "Episode: 18 Loss: 48.97713580355048\n",
      "Episode: 19 Loss: 46.69662443548441\n",
      "Episode: 20 Loss: 44.44203654676676\n",
      "Episode: 21 Loss: 42.40579508431256\n",
      "Episode: 22 Loss: 40.725778417661786\n",
      "Episode: 23 Loss: 38.678245689719915\n",
      "Episode: 24 Loss: 36.90456669591367\n",
      "Episode: 25 Loss: 35.428804283961654\n",
      "Episode: 26 Loss: 33.883414125069976\n",
      "Episode: 27 Loss: 32.65818399563432\n",
      "Episode: 28 Loss: 31.23188652843237\n",
      "Episode: 29 Loss: 29.747594490647316\n",
      "Episode: 30 Loss: 28.59947078861296\n",
      "Episode: 31 Loss: 27.46542306803167\n",
      "Episode: 32 Loss: 26.32232054695487\n",
      "Episode: 33 Loss: 25.38538916874677\n",
      "Episode: 34 Loss: 24.208781868219376\n",
      "Episode: 35 Loss: 23.197295809164643\n",
      "Episode: 36 Loss: 22.168087636120617\n",
      "Episode: 37 Loss: 21.49057604232803\n",
      "Episode: 38 Loss: 20.58697072090581\n",
      "Episode: 39 Loss: 19.81142058200203\n",
      "Episode: 40 Loss: 18.942287783138454\n",
      "Episode: 41 Loss: 18.224649061914533\n",
      "Episode: 42 Loss: 17.600535940378904\n",
      "Episode: 43 Loss: 16.675443665357307\n",
      "Episode: 44 Loss: 16.169227491598576\n",
      "Episode: 45 Loss: 15.46957203396596\n",
      "Episode: 46 Loss: 14.804221935104579\n",
      "Episode: 47 Loss: 14.168454319704324\n",
      "Episode: 48 Loss: 13.474797320843209\n",
      "Episode: 49 Loss: 13.0325672281906\n"
     ]
    },
    {
     "data": {
      "image/png": "[encoded data removed]",
      "text/plain": [
       "<Figure size 1080x720 with 1 Axes>"
      ]
     },
     "metadata": {
      "needs_background": "light"
     },
     "output_type": "display_data"
    }
   ],
   "source": [
    "losses = []\n",
    "epoch = 50\n",
    "for i in range(epoch):\n",
    "    sum_loss = 0\n",
    "    for batch in iter(dataloader):\n",
    "        X_, y_ = batch\n",
    "        y_hat = model(X_)\n",
    "        loss = loss_function(y_hat, y_.long())\n",
    "        optim.zero_grad()\n",
    "        loss.backward()\n",
    "        optim.step()\n",
    "        sum_loss += loss.item()\n",
    "    losses.append(sum_loss)\n",
    "    print(\"Episode:\", i, \"Loss:\", sum_loss)\n",
    "\n",
    "plt.figure(figsize=(15, 10))\n",
    "plt.plot(list(range(epoch)), losses)\n",
    "plt.tight_layout()\n",
    "plt.show()"
   ]
  },
  {
   "cell_type": "code",
   "execution_count": 11,
   "metadata": {},
   "outputs": [],
   "source": [
    "def predict(X):\n",
    "    X = torch.Tensor(X).float()\n",
    "    y_hat = F.softmax(model(X)).detach().numpy()\n",
    "    return np.argmax(y_hat, axis=1)"
   ]
  },
  {
   "cell_type": "code",
   "execution_count": 12,
   "metadata": {},
   "outputs": [
    {
     "name": "stdout",
     "output_type": "stream",
     "text": [
      "точность на тесте = 0.9722857142857143\n"
     ]
    },
    {
     "name": "stderr",
     "output_type": "stream",
     "text": [
      "C:\\Users\\Alina\\Anaconda3\\lib\\site-packages\\ipykernel_launcher.py:3: UserWarning: Implicit dimension choice for softmax has been deprecated. Change the call to include dim=X as an argument.\n",
      "  This is separate from the ipykernel package so we can avoid doing imports until\n"
     ]
    }
   ],
   "source": [
    "print(\"точность на тесте =\", np.sum(predict(X_test) == y_test) / len(y_test))"
   ]
  },
  {
   "cell_type": "code",
   "execution_count": 13,
   "metadata": {},
   "outputs": [],
   "source": [
    "def fast_adversarial_example(dig, n=784, n_classes=10, eta=0.01, iters=10):\n",
    "    y = torch.tensor([dig]).long()\n",
    "    x = torch.tensor(np.random.normal(loc=0, scale=0.01, size=n)).float()\n",
    "    for _ in range(iters):\n",
    "        # write your code here (start)      \n",
    "        x = Variable(x.data.clone(), requires_grad=True)\n",
    "        y_hat = model(x).unsqueeze(0)\n",
    "        loss = loss_function(y_hat,y)\n",
    "        model.zero_grad()\n",
    "        loss.backward()\n",
    "        grad = x.grad.data\n",
    "        x = torch.clamp(x - eta*grad.sign(), 0, 1)\n",
    "        # write your code here (end)\n",
    "    return x"
   ]
  },
  {
   "cell_type": "code",
   "execution_count": 14,
   "metadata": {},
   "outputs": [],
   "source": [
    "example = fast_adversarial_example(8, eta=0.1, iters=5)"
   ]
  },
  {
   "cell_type": "code",
   "execution_count": 15,
   "metadata": {},
   "outputs": [
    {
     "name": "stderr",
     "output_type": "stream",
     "text": [
      "C:\\Users\\Alina\\Anaconda3\\lib\\site-packages\\ipykernel_launcher.py:3: UserWarning: Implicit dimension choice for softmax has been deprecated. Change the call to include dim=X as an argument.\n",
      "  This is separate from the ipykernel package so we can avoid doing imports until\n"
     ]
    }
   ],
   "source": [
    "alpha = 0.5\n",
    "X_spoiled = np.maximum(X_test*(1-alpha), alpha*example.detach().numpy())\n",
    "y_test_model = predict(X_spoiled)"
   ]
  },
  {
   "cell_type": "code",
   "execution_count": 16,
   "metadata": {},
   "outputs": [
    {
     "name": "stdout",
     "output_type": "stream",
     "text": [
      "точность после атаки = 0.09908571428571429\n"
     ]
    },
    {
     "name": "stderr",
     "output_type": "stream",
     "text": [
      "C:\\Users\\Alina\\Anaconda3\\lib\\site-packages\\ipykernel_launcher.py:3: UserWarning: Implicit dimension choice for softmax has been deprecated. Change the call to include dim=X as an argument.\n",
      "  This is separate from the ipykernel package so we can avoid doing imports until\n"
     ]
    }
   ],
   "source": [
    "print(\"точность после атаки =\", np.sum(predict(X_spoiled) == y_test) / len(y_test))"
   ]
  }
 ],
 "metadata": {
  "kernelspec": {
   "display_name": "Python 3",
   "language": "python",
   "name": "python3"
  },
  "language_info": {
   "codemirror_mode": {
    "name": "ipython",
    "version": 3
   },
   "file_extension": ".py",
   "mimetype": "text/x-python",
   "name": "python",
   "nbconvert_exporter": "python",
   "pygments_lexer": "ipython3",
   "version": "3.7.3"
  }
 },
 "nbformat": 4,
 "nbformat_minor": 2
}
